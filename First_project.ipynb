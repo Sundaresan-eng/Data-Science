{
  "nbformat": 4,
  "nbformat_minor": 0,
  "metadata": {
    "colab": {
      "provenance": [],
      "mount_file_id": "1VVM_mpPIo0twDU0QpIzhR5S-NMy2FX5r",
      "authorship_tag": "ABX9TyOAcVw+e4OG5iEx5H7zGB7d",
      "include_colab_link": true
    },
    "kernelspec": {
      "name": "python3",
      "display_name": "Python 3"
    },
    "language_info": {
      "name": "python"
    }
  },
  "cells": [
    {
      "cell_type": "markdown",
      "metadata": {
        "id": "view-in-github",
        "colab_type": "text"
      },
      "source": [
        "<a href=\"https://colab.research.google.com/github/Sundaresan-eng/Data-Science/blob/main/First_project.ipynb\" target=\"_parent\"><img src=\"https://colab.research.google.com/assets/colab-badge.svg\" alt=\"Open In Colab\"/></a>"
      ]
    },
    {
      "cell_type": "code",
      "source": [
        "import pandas as pd\n",
        "from sklearn.preprocessing import LabelEncoder\n",
        "from sklearn.model_selection import train_test_split\n",
        "from sklearn.ensemble import RandomForestClassifier\n",
        "from sklearn.metrics import classification_report, confusion_matrix"
      ],
      "metadata": {
        "id": "xwhQe5-fGlTq"
      },
      "execution_count": 1,
      "outputs": []
    },
    {
      "cell_type": "code",
      "source": [
        "from google.colab import drive\n",
        "drive.mount('/content/drive')"
      ],
      "metadata": {
        "id": "ivL8uhU0GrUt"
      },
      "execution_count": null,
      "outputs": []
    },
    {
      "cell_type": "code",
      "source": [
        "df=pd.read_csv('/content/drive/MyDrive/cards_data.csv')"
      ],
      "metadata": {
        "id": "YTUQIXsALzFe"
      },
      "execution_count": 5,
      "outputs": []
    },
    {
      "cell_type": "code",
      "source": [
        "pd.read_csv('/content/drive/MyDrive/cards_data.csv')"
      ],
      "metadata": {
        "id": "LalvSREQ4MOr"
      },
      "execution_count": null,
      "outputs": []
    },
    {
      "cell_type": "code",
      "source": [
        "df_clean = df.copy()"
      ],
      "metadata": {
        "id": "E7uTHDMgMTwT"
      },
      "execution_count": 6,
      "outputs": []
    },
    {
      "cell_type": "code",
      "source": [
        "df_clean[\"credit_limit\"] = df_clean[\"credit_limit\"].replace('[\\$,]', '', regex=True).astype(int)"
      ],
      "metadata": {
        "id": "MN_N9L9oMW-H"
      },
      "execution_count": 7,
      "outputs": []
    },
    {
      "cell_type": "code",
      "source": [
        "df_clean[\"has_chip\"] = df_clean[\"has_chip\"].map({\"YES\": 1, \"NO\": 0})\n",
        "df_clean[\"card_on_dark_web\"] = df_clean[\"card_on_dark_web\"].map({\"Yes\": 1, \"No\": 0})"
      ],
      "metadata": {
        "id": "Xnb7ZmyfMdiC"
      },
      "execution_count": null,
      "outputs": []
    },
    {
      "cell_type": "code",
      "source": [
        "label_encoders = {}\n",
        "categorical_cols = [\"card_brand\", \"card_type\"]\n",
        "\n",
        "for col in categorical_cols:\n",
        "    le = LabelEncoder()\n",
        "    df_clean[col] = le.fit_transform(df_clean[col])\n",
        "    label_encoders[col] = le"
      ],
      "metadata": {
        "id": "JC5GcT0CMmCq"
      },
      "execution_count": null,
      "outputs": []
    },
    {
      "cell_type": "code",
      "source": [
        "df_clean[\"acct_open_date\"] = pd.to_datetime(df_clean[\"acct_open_date\"], format=\"%m/%Y\", errors='coerce')\n",
        "df_clean[\"card_age_years\"] = pd.Timestamp(\"now\").year - df_clean[\"acct_open_date\"].dt.year"
      ],
      "metadata": {
        "id": "KPQFtQXkMqlN"
      },
      "execution_count": null,
      "outputs": []
    },
    {
      "cell_type": "code",
      "source": [
        "drop_cols = [\"id\", \"client_id\", \"card_number\", \"expires\", \"cvv\", \"acct_open_date\"]\n",
        "df_model = df_clean.drop(columns=drop_cols)"
      ],
      "metadata": {
        "id": "1zBPHyMTMvCN"
      },
      "execution_count": null,
      "outputs": []
    },
    {
      "cell_type": "code",
      "source": [
        "X = df_model.drop(columns=[\"card_on_dark_web\"])\n",
        "y = df_model[\"card_on_dark_web\"]"
      ],
      "metadata": {
        "id": "5T-Ga8gfMyti"
      },
      "execution_count": null,
      "outputs": []
    },
    {
      "cell_type": "code",
      "source": [
        "X_train, X_test, y_train, y_test = train_test_split(X, y, test_size=0.2, random_state=42)"
      ],
      "metadata": {
        "id": "eHt6dEgEM5_u"
      },
      "execution_count": null,
      "outputs": []
    },
    {
      "cell_type": "code",
      "source": [
        "model = RandomForestClassifier(n_estimators=100, random_state=42)\n",
        "model.fit(X_train, y_train)"
      ],
      "metadata": {
        "id": "OjFhrAbONC6z"
      },
      "execution_count": null,
      "outputs": []
    },
    {
      "cell_type": "code",
      "source": [
        "y_pred = model.predict(X_test)\n",
        "print(\"Classification Report:\\n\", classification_report(y_test, y_pred))\n",
        "print(\"Confusion Matrix:\\n\", confusion_matrix(y_test, y_pred))"
      ],
      "metadata": {
        "id": "_IHFWVPbNK_o"
      },
      "execution_count": null,
      "outputs": []
    }
  ]
}